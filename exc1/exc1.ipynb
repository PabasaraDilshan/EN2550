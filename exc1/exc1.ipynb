{
 "cells": [
  {
   "cell_type": "markdown",
   "id": "e682b71d",
   "metadata": {},
   "source": [
    "Question 1"
   ]
  },
  {
   "cell_type": "code",
   "execution_count": 44,
   "id": "a26ce849",
   "metadata": {},
   "outputs": [],
   "source": [
    "import numpy as np\n",
    "import cv2\n",
    "import sympy"
   ]
  },
  {
   "cell_type": "code",
   "execution_count": 3,
   "id": "4e0cfd5e",
   "metadata": {},
   "outputs": [
    {
     "name": "stdout",
     "output_type": "stream",
     "text": [
      "1 : 1\n",
      "2 : 4\n",
      "3 : 9\n",
      "4 : 16\n",
      "5 : 25\n"
     ]
    }
   ],
   "source": [
    "for i in range(1,6):\n",
    "    print(\"%d : %d\"%(i,i**2))"
   ]
  },
  {
   "cell_type": "markdown",
   "id": "a8f79c43",
   "metadata": {},
   "source": [
    "Question 2"
   ]
  },
  {
   "cell_type": "code",
   "execution_count": 46,
   "id": "79677ad5",
   "metadata": {},
   "outputs": [
    {
     "name": "stdout",
     "output_type": "stream",
     "text": [
      "1 : 1\n",
      "4 : 16\n"
     ]
    }
   ],
   "source": [
    "for i in range (1,6):\n",
    "    if not sympy.isprime(i):\n",
    "        print( \"%d : %d\"%(i, i**2))\n",
    "\n"
   ]
  },
  {
   "cell_type": "markdown",
   "id": "5adfd786",
   "metadata": {},
   "source": [
    "Question 3"
   ]
  },
  {
   "cell_type": "code",
   "execution_count": 51,
   "id": "a6ae16d2",
   "metadata": {},
   "outputs": [
    {
     "name": "stdout",
     "output_type": "stream",
     "text": [
      "1 : 1\n",
      "2 : 4\n",
      "3 : 9\n",
      "4 : 16\n",
      "5 : 25\n"
     ]
    }
   ],
   "source": [
    "num_arr = np.array([ i for i in range(1,6)])\n",
    "sqr_arr = num_arr**2\n",
    "for i,el in enumerate(sqr_arr):\n",
    "    print(\"%d : %d\"%(i + 1, el) )"
   ]
  },
  {
   "cell_type": "markdown",
   "id": "d11059fa",
   "metadata": {},
   "source": [
    "Question 4"
   ]
  },
  {
   "cell_type": "code",
   "execution_count": 61,
   "id": "71031bd8",
   "metadata": {},
   "outputs": [
    {
     "name": "stdout",
     "output_type": "stream",
     "text": [
      "1 : 1\n",
      "4 : 16\n"
     ]
    }
   ],
   "source": [
    "num_arr = np.array([ i for i in range(1,6)])\n",
    "filter_arr = []\n",
    "for i in num_arr:\n",
    "    if not sympy.isprime(i):\n",
    "        filter_arr.append(True)\n",
    "    else:\n",
    "        filter_arr.append(False)\n",
    "\n",
    "new_arr = num_arr[filter_arr]\n",
    "non_prime_sqr = new_arr**2 \n",
    "for i in range(len(new_arr)):\n",
    "    print(\"%d : %d\"%(new_arr[i], non_prime_sqr[i]) )\n",
    "\n"
   ]
  },
  {
   "cell_type": "markdown",
   "id": "74d3aba1",
   "metadata": {},
   "source": [
    "Question 5 (a)"
   ]
  },
  {
   "cell_type": "code",
   "execution_count": 11,
   "id": "86692948",
   "metadata": {},
   "outputs": [
    {
     "name": "stdout",
     "output_type": "stream",
     "text": [
      "[[ 9 12 15  9]\n",
      " [25 32 39 19]\n",
      " [41 52 63 29]]\n"
     ]
    }
   ],
   "source": [
    "A = np.array([[1,2],[3,4],[5,6]])\n",
    "B = np.array([[7,8,9,1],[1,2,3,4]])\n",
    "print(np.dot(A,B))"
   ]
  },
  {
   "cell_type": "markdown",
   "id": "803b302d",
   "metadata": {},
   "source": [
    "Question 5 (b)"
   ]
  },
  {
   "cell_type": "code",
   "execution_count": 12,
   "id": "f5f2f31f",
   "metadata": {},
   "outputs": [
    {
     "name": "stdout",
     "output_type": "stream",
     "text": [
      "[[ 3  4]\n",
      " [15 16]\n",
      " [15  6]]\n"
     ]
    }
   ],
   "source": [
    "A = np.array(\n",
    "    [\n",
    "        [1,2],\n",
    "        [3,4],\n",
    "        [5,6]\n",
    "    ]\n",
    ")\n",
    "B = np.array([\n",
    "    [3,2],\n",
    "    [5,4],\n",
    "    [3,1]\n",
    "])\n",
    "print(np.multiply(A,B))"
   ]
  },
  {
   "cell_type": "markdown",
   "id": "22c5b131",
   "metadata": {},
   "source": [
    "Question 6"
   ]
  },
  {
   "cell_type": "code",
   "execution_count": 22,
   "id": "2fe590b3",
   "metadata": {},
   "outputs": [
    {
     "name": "stdout",
     "output_type": "stream",
     "text": [
      "[[5. 5. 6. 8. 4. 2. 2.]\n",
      " [5. 4. 5. 9. 7. 1. 4.]\n",
      " [1. 3. 2. 4. 5. 0. 5.]\n",
      " [3. 5. 3. 8. 3. 8. 6.]\n",
      " [9. 7. 7. 5. 8. 8. 7.]]\n",
      "[[3. 5.]\n",
      " [9. 7.]]\n"
     ]
    }
   ],
   "source": [
    "rand_arr = np.random.rand(5,7)//0.1\n",
    "print(rand_arr)\n",
    "print(rand_arr[3:6,0:2])"
   ]
  },
  {
   "cell_type": "markdown",
   "id": "83aaca56",
   "metadata": {},
   "source": [
    "Question 7 "
   ]
  },
  {
   "cell_type": "code",
   "execution_count": 24,
   "id": "eaa323f8",
   "metadata": {},
   "outputs": [
    {
     "data": {
      "text/plain": [
       "array([[ 1,  4,  9],\n",
       "       [ 3,  8, 15]])"
      ]
     },
     "execution_count": 24,
     "metadata": {},
     "output_type": "execute_result"
    }
   ],
   "source": [
    "a = np.array([[1,2,3],[3,4,5]])\n",
    "b = np.array([1,2,3])\n",
    "a*b"
   ]
  },
  {
   "cell_type": "code",
   "execution_count": 26,
   "id": "1821881a",
   "metadata": {},
   "outputs": [
    {
     "data": {
      "text/plain": [
       "array([[ 1,  4,  9],\n",
       "       [12, 20, 30]])"
      ]
     },
     "execution_count": 26,
     "metadata": {},
     "output_type": "execute_result"
    }
   ],
   "source": [
    "a = np.array([[1,2,3],[3,4,5]])\n",
    "b = np.array([[1,2,3],[4,5,6]])\n",
    "a*b"
   ]
  },
  {
   "cell_type": "code",
   "execution_count": 29,
   "id": "027ec86c",
   "metadata": {},
   "outputs": [
    {
     "data": {
      "text/plain": [
       "array([[ 4,  8, 12],\n",
       "       [12, 16, 20]])"
      ]
     },
     "execution_count": 29,
     "metadata": {},
     "output_type": "execute_result"
    }
   ],
   "source": [
    "a = np.array([[1,2,3],[3,4,5]])\n",
    "b = np.array([4])\n",
    "a*b"
   ]
  },
  {
   "cell_type": "markdown",
   "id": "72defac5",
   "metadata": {},
   "source": [
    "Question8"
   ]
  },
  {
   "cell_type": "code",
   "execution_count": 43,
   "id": "4494ca59",
   "metadata": {},
   "outputs": [],
   "source": [
    "x = np.array([[1,2,3],[2,3,4]])\n",
    "y = np.append(x,[1,1,1]).reshape(3,3)"
   ]
  },
  {
   "cell_type": "code",
   "execution_count": 3,
   "id": "f7f25489",
   "metadata": {},
   "outputs": [
    {
     "name": "stdout",
     "output_type": "stream",
     "text": [
      "[[-0.         -0.00135815 -0.00271629 -0.00407444 -0.00543258 -0.00679073\n",
      "  -0.00814887 -0.00950702 -0.01086516 -0.01222331 -0.00135815]\n",
      " [-0.         -0.03450022 -0.06900044 -0.10350066 -0.13800088 -0.1725011\n",
      "  -0.20700132 -0.24150155 -0.27600177 -0.31050199 -0.03450022]\n",
      " [-0.         -0.03670191 -0.07340383 -0.11010574 -0.14680766 -0.18350957\n",
      "  -0.22021149 -0.2569134  -0.29361532 -0.33031723 -0.03670191]\n",
      " [-0.         -0.04388751 -0.08777501 -0.13166252 -0.17555003 -0.21943754\n",
      "  -0.26332504 -0.30721255 -0.35110006 -0.39498756 -0.04388751]\n",
      " [ 0.          0.02787357  0.05574714  0.08362072  0.11149429  0.13936786\n",
      "   0.16724143  0.195115    0.22298858  0.25086215  0.02787357]\n",
      " [-0.         -0.03598632 -0.07197265 -0.10795897 -0.14394529 -0.17993161\n",
      "  -0.21591794 -0.25190426 -0.28789058 -0.3238769  -0.03598632]\n",
      " [ 0.          0.01995018  0.03990037  0.05985055  0.07980074  0.09975092\n",
      "   0.11970111  0.13965129  0.15960148  0.17955166  0.01995018]\n",
      " [ 0.          0.03222101  0.06444202  0.09666303  0.12888404  0.16110505\n",
      "   0.19332606  0.22554706  0.25776807  0.28998908  0.03222101]\n",
      " [ 0.          0.03973742  0.07947484  0.11921227  0.15894969  0.19868711\n",
      "   0.23842453  0.27816195  0.31789938  0.3576368   0.03973742]\n",
      " [ 0.          0.09065595  0.1813119   0.27196786  0.36262381  0.45327976\n",
      "   0.54393571  0.63459166  0.72524761  0.81590357  0.09065595]]\n"
     ]
    }
   ],
   "source": [
    "m, c = 2 , -4\n",
    "N = 10\n",
    "x = np . linspace (0 , N-1, N) . reshape (N, 1 )\n",
    "sigma = 10\n",
    "y = m*x + c + np . random . normal (0 , sigma , (N, 1 ) )\n",
    "X = np.append(x,np.ones(1)).reshape(N+1,1)\n",
    "print(np.multiply(\n",
    "    np.multiply(\n",
    "        np.linalg.inv(\n",
    "            np.matmul(\n",
    "                np.transpose(X),\n",
    "                X\n",
    "                 )\n",
    "            ),\n",
    "        np.transpose(X)\n",
    "        ),\n",
    "    y\n",
    "    ))\n",
    "\n"
   ]
  },
  {
   "cell_type": "markdown",
   "id": "32e217a8",
   "metadata": {},
   "source": [
    "Question 9"
   ]
  },
  {
   "cell_type": "code",
   "execution_count": 25,
   "id": "6d03a3a8",
   "metadata": {},
   "outputs": [],
   "source": [
    "def hyper_square(s):\n",
    "    n= 0\n",
    "    a = s\n",
    "    while True:\n",
    "        if 1<=a<=100 and n%2==0:\n",
    "            break\n",
    "        a = a/10\n",
    "        n+=1 \n",
    "\n",
    "    # print(a,n)\n",
    "\n",
    "    return ((-190/(a+20))+10)*(10**(n/2))\n",
    "        \n",
    "        "
   ]
  },
  {
   "cell_type": "code",
   "execution_count": 26,
   "id": "b68cbead",
   "metadata": {},
   "outputs": [
    {
     "name": "stdout",
     "output_type": "stream",
     "text": [
      "8.000000000000094\n",
      "8.660254037844386\n",
      "10.0\n",
      "40.0\n"
     ]
    }
   ],
   "source": [
    "def newton_root(s,err=10**(-5)):\n",
    "    s0 = hyper_square(s)\n",
    "    count = 0\n",
    "    while True:\n",
    "        s1 = (s0+s/s0)/2\n",
    "        #print(s1)\n",
    "        if abs(s1-s0) <= err:break\n",
    "        s0 = s1\n",
    "    return s1\n",
    "    \n",
    "lst = [64,75,100,1600]\n",
    "for i in lst:\n",
    "    print(newton_root(i))"
   ]
  },
  {
   "cell_type": "markdown",
   "id": "16e9641e",
   "metadata": {},
   "source": [
    "Question 10"
   ]
  },
  {
   "cell_type": "code",
   "execution_count": 33,
   "id": "e678c599",
   "metadata": {},
   "outputs": [],
   "source": [
    "img = cv2.imread(r'gal_gaussian.png')\n",
    "gausblur = cv2.GaussianBlur(img,(5,5),0)\n",
    "cv2.namedWindow('Original Image', cv2.WINDOW_AUTOSIZE)\n",
    "cv2.imshow('Original Image',img)\n",
    "cv2.namedWindow('Gaussian Effect', cv2.WINDOW_AUTOSIZE)\n",
    "cv2.imshow('Gaussian Effect', gausblur)\n",
    "cv2.waitKey(0)\n",
    "cv2.destroyAllWindows()\n"
   ]
  },
  {
   "cell_type": "markdown",
   "id": "fa195cfe",
   "metadata": {},
   "source": [
    "Question 11"
   ]
  },
  {
   "cell_type": "code",
   "execution_count": 37,
   "id": "b20c6d4c",
   "metadata": {},
   "outputs": [],
   "source": [
    "img2 = cv2.imread(r'gal_sandp.png')\n",
    "medimg = cv2.medianBlur(img2,5)\n",
    "cv2.namedWindow('Original Image', cv2.WINDOW_AUTOSIZE)\n",
    "cv2.imshow('Original Image',img2)\n",
    "cv2.namedWindow('Salt and Pepper Filter', cv2.WINDOW_AUTOSIZE)\n",
    "cv2.imshow('Salt and Pepper Filter', medimg)\n",
    "cv2.waitKey(0)\n",
    "cv2.destroyAllWindows()\n"
   ]
  },
  {
   "cell_type": "markdown",
   "id": "3c420511",
   "metadata": {},
   "source": [
    "Question 12"
   ]
  },
  {
   "cell_type": "code",
   "execution_count": 39,
   "id": "208535f7",
   "metadata": {},
   "outputs": [],
   "source": [
    "greyimg = np.zeros((40,60), dtype = np.uint8)\n",
    "greyimg[0:21, 30:61] = 125\n",
    "cv2.namedWindow('Greyscale Image', cv2.WINDOW_AUTOSIZE)\n",
    "cv2.imshow('Greyscale Image',greyimg)\n",
    "cv2.waitKey(0)\n",
    "cv2.destroyAllWindows()\n"
   ]
  },
  {
   "cell_type": "markdown",
   "id": "fb0dcc04",
   "metadata": {},
   "source": [
    "Question 13"
   ]
  },
  {
   "cell_type": "code",
   "execution_count": 40,
   "id": "ccf86f93",
   "metadata": {},
   "outputs": [],
   "source": [
    "bbimg = np.zeros((40,60,3), dtype = np.uint8)\n",
    "bbimg[21:41, 0:31] = [218,24,132]\n",
    "cv2.namedWindow('Barbie Pink Color Image', cv2.WINDOW_AUTOSIZE)\n",
    "cv2.imshow('Barbie Pink Color Image',bbimg)\n",
    "cv2.waitKey(0)\n",
    "cv2.destroyAllWindows()\n"
   ]
  },
  {
   "cell_type": "markdown",
   "id": "37a25e2a",
   "metadata": {},
   "source": [
    "Question 14"
   ]
  },
  {
   "cell_type": "code",
   "execution_count": 41,
   "id": "3076804d",
   "metadata": {},
   "outputs": [],
   "source": [
    "darkimg = cv2.imread(r'tom_dark.jpg')\n",
    "cv2.namedWindow('Dark Image', cv2.WINDOW_AUTOSIZE)\n",
    "cv2.imshow('Dark Image',darkimg)\n",
    "brightimg = darkimg +80\n",
    "cv2.namedWindow('Bright Image', cv2.WINDOW_AUTOSIZE)\n",
    "cv2.imshow('Bright Image', brightimg)\n",
    "cv2.waitKey(0)\n",
    "cv2.destroyAllWindows()"
   ]
  },
  {
   "cell_type": "code",
   "execution_count": null,
   "id": "d4dc623d",
   "metadata": {},
   "outputs": [],
   "source": []
  }
 ],
 "metadata": {
  "kernelspec": {
   "display_name": "Python 3 (ipykernel)",
   "language": "python",
   "name": "python3"
  },
  "language_info": {
   "codemirror_mode": {
    "name": "ipython",
    "version": 3
   },
   "file_extension": ".py",
   "mimetype": "text/x-python",
   "name": "python",
   "nbconvert_exporter": "python",
   "pygments_lexer": "ipython3",
   "version": "3.10.1"
  }
 },
 "nbformat": 4,
 "nbformat_minor": 5
}
