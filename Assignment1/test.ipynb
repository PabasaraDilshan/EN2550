{
 "cells": [
  {
   "cell_type": "code",
   "execution_count": 23,
   "metadata": {},
   "outputs": [],
   "source": [
    "def ta(a,b,c):\n",
    "    print((a**2+2*b+1)%10007-5000)\n",
    "    print((b**2+2*a-1)%10007-5000)\n",
    "    print((a+b+c)%121 -60)\n",
    "    print( \"sum\",a+b+c)\n",
    "    print( \"sum\",(a+b+c)%121)\n"
   ]
  },
  {
   "cell_type": "code",
   "execution_count": 14,
   "metadata": {},
   "outputs": [
    {
     "name": "stdout",
     "output_type": "stream",
     "text": [
      "1492\n",
      "-827\n",
      "-57\n"
     ]
    }
   ],
   "source": [
    "ta(2037,10,13)\n",
    "\n"
   ]
  },
  {
   "cell_type": "code",
   "execution_count": 15,
   "metadata": {},
   "outputs": [
    {
     "name": "stdout",
     "output_type": "stream",
     "text": [
      "-2143\n",
      "1436\n",
      "-57\n"
     ]
    }
   ],
   "source": [
    "ta(1492,-827,-57)"
   ]
  },
  {
   "cell_type": "code",
   "execution_count": 24,
   "metadata": {},
   "outputs": [
    {
     "name": "stdout",
     "output_type": "stream",
     "text": [
      "-2891\n",
      "1374\n",
      "23\n",
      "sum -764\n",
      "sum 83\n"
     ]
    }
   ],
   "source": [
    "ta(-2143,1436,-57)"
   ]
  },
  {
   "cell_type": "code",
   "execution_count": null,
   "metadata": {},
   "outputs": [],
   "source": [
    "def maxSubarrSum(array, begin, end):\n",
    "    if(begin == end):\n",
    "        return array[begin]\n",
    "    mid = (begin + end) // 2\n",
    "    \n",
    "    return max(maxSubarrSum(array, begin, mid), maxSubarrSum(array, mid+1, end), maxCrossSubarrSum(array, begin, mid, end))\n",
    "    \n",
    "def maxCrossSubarrSum(array, begin, mid, end):\n",
    "    leftSum = 0\n",
    "    tot = 0\n",
    "    for i in range(mid, begin - 1, -1):\n",
    "        tot += array[i]\n",
    "        if leftSum == 0 and tot < 0:\n",
    "            leftSum = tot\n",
    "        elif tot > leftSum:\n",
    "            leftSum = tot\n",
    "            \n",
    "    rightSum = 0\n",
    "    tot = 0\n",
    "    for i in range(mid + 1, end + 1):\n",
    "        tot += array[i]\n",
    "        if rightSum == 0 and tot < 0:\n",
    "            rightSum = tot\n",
    "        elif tot > rightSum:\n",
    "            rightSum = tot\n",
    "            \n",
    "    return max(leftSum, rightSum, leftSum + rightSum)\n",
    "\n",
    "numberofSlotMachines = int(input())\n",
    "year, month, day = [int(x) for x in input().split()]\n",
    "a = [year]\n",
    "b = [month]\n",
    "c = [day]\n",
    "slotMachineVal = []\n",
    "\n",
    "for i in range(numberofSlotMachines):\n",
    "    slotMachineVal.append(a[i] + b[i] + c[i])\n",
    "    a.append((a[i]**2 + 2*b[i] + 1) % 10007 - 5000)\n",
    "    b.append((b[i]**2 + 2*a[i] - 1) % 10007 - 5000)\n",
    "    c.append(slotMachineVal[i] % 121 - 60) \n",
    "\n",
    "print(maxSubarrSum(slotMachineVal, 0, len(slotMachineVal) - 1))"
   ]
  }
 ],
 "metadata": {
  "interpreter": {
   "hash": "47028024b961e7c4f320da15b058db3553496b0c01673e91385a024fbf181767"
  },
  "kernelspec": {
   "display_name": "Python 3.10.1 64-bit",
   "language": "python",
   "name": "python3"
  },
  "language_info": {
   "codemirror_mode": {
    "name": "ipython",
    "version": 3
   },
   "file_extension": ".py",
   "mimetype": "text/x-python",
   "name": "python",
   "nbconvert_exporter": "python",
   "pygments_lexer": "ipython3",
   "version": "3.10.1"
  },
  "orig_nbformat": 4
 },
 "nbformat": 4,
 "nbformat_minor": 2
}
